{
 "cells": [
  {
   "cell_type": "markdown",
   "metadata": {},
   "source": [
    "<h1 style=\"text-align:center;\">MNIST depth experiments 🧀</h1>"
   ]
  },
  {
   "cell_type": "code",
   "execution_count": null,
   "metadata": {
    "scrolled": false
   },
   "outputs": [],
   "source": [
    "import itertools\n",
    "import sys\n",
    "from tqdm import tqdm\n",
    "\n",
    "import matplotlib\n",
    "import numpy as np\n",
    "import matplotlib.pyplot as plt\n",
    "%matplotlib inline\n",
    "\n",
    "import torch\n",
    "import torch.nn as nn\n",
    "import torch.nn.functional as F\n",
    "from torchvision import datasets, transforms\n",
    "from torch.optim import Adam\n",
    "from torch.optim import SGD\n",
    "\n",
    "sys.path.append(\"..\")\n",
    "from fromage import Fromage"
   ]
  },
  {
   "cell_type": "markdown",
   "metadata": {},
   "source": [
    "## Get the data and put it in a Pytorch dataloader"
   ]
  },
  {
   "cell_type": "code",
   "execution_count": null,
   "metadata": {},
   "outputs": [],
   "source": [
    "batch_size = 250\n",
    "\n",
    "train_loader = torch.utils.data.DataLoader(\n",
    "    datasets.MNIST('./data', train=True, download=True,\n",
    "                   transform=transforms.Compose([\n",
    "                       transforms.ToTensor(),\n",
    "                       transforms.Normalize((0.1307,), (0.3081,))\n",
    "                   ])),\n",
    "    batch_size=batch_size, shuffle=True)"
   ]
  },
  {
   "cell_type": "markdown",
   "metadata": {},
   "source": [
    "## Define the multilayer perceptron architecture"
   ]
  },
  {
   "cell_type": "code",
   "execution_count": null,
   "metadata": {},
   "outputs": [],
   "source": [
    "class SimpleNet(nn.Module):\n",
    "    def __init__(self, num_layers):\n",
    "        super(SimpleNet, self).__init__()\n",
    "        self.layers = nn.ModuleList([nn.Linear(784, 784) for _ in range(num_layers)])\n",
    "        self.final = nn.Linear(784, 10)\n",
    "        \n",
    "    def forward(self, x):\n",
    "        for i, layer in enumerate(self.layers):\n",
    "            x = layer(x)\n",
    "            x = F.relu(x)\n",
    "        return self.final(x)\n",
    "    \n",
    "def getLR(optimizer):\n",
    "    for param_group in optimizer.param_groups:\n",
    "        print(f\"lr is {param_group['lr']}\")\n",
    "    \n",
    "net = SimpleNet(5)\n",
    "for p in net.parameters():\n",
    "    print(p.size())"
   ]
  },
  {
   "cell_type": "markdown",
   "metadata": {},
   "source": [
    "## Define a function to train a network"
   ]
  },
  {
   "cell_type": "code",
   "execution_count": null,
   "metadata": {
    "scrolled": false
   },
   "outputs": [],
   "source": [
    "def train_network(layer_num, epochs, opt, seed, init_lr):\n",
    "    \n",
    "    torch.manual_seed(seed)\n",
    "    torch.backends.cudnn.deterministic = True\n",
    "    torch.backends.cudnn.benchmark = False\n",
    "    np.random.seed(seed)\n",
    "\n",
    "    lr_lambda = lambda x: 0.95**x\n",
    "\n",
    "    model = SimpleNet(layer_num).cuda()\n",
    "    loss_fn = torch.nn.CrossEntropyLoss()\n",
    "\n",
    "    if opt == \"fromage\":\n",
    "        optim = Fromage(model.parameters(), lr=init_lr)\n",
    "    elif opt == \"SGD\":\n",
    "        optim = SGD(model.parameters(), lr=init_lr, momentum = 0.9)\n",
    "    elif opt == \"SGDwithoutmomentum\":\n",
    "        optim = SGD(model.parameters(), lr=init_lr, momentum = 0.0)\n",
    "    elif opt == \"adam\":\n",
    "        optim = Adam(model.parameters(), lr=init_lr)\n",
    "\n",
    "    lr_scheduler = torch.optim.lr_scheduler.LambdaLR(optim, lr_lambda)\n",
    "\n",
    "    print(\"Training {} layers, {} optim, learning rate {}\".format(layer_num, opt, init_lr))\n",
    "\n",
    "    model.train()\n",
    "    training_acc = []\n",
    "\n",
    "    for epoch in range(epochs):\n",
    "\n",
    "        for batch_idx, (data, target) in enumerate(tqdm(train_loader, file=sys.stdout)):\n",
    "            data, target = (data.cuda(), target.cuda())\n",
    "\n",
    "            data = data.view(batch_size,-1)\n",
    "            y_pred = model(data)\n",
    "            loss = loss_fn(y_pred, target)\n",
    "\n",
    "            acc = (target == y_pred.max(dim=1)[1]).sum().item()/batch_size\n",
    "            training_acc.append(acc)\n",
    "\n",
    "            model.zero_grad()\n",
    "            loss.backward()\n",
    "            optim.step()\n",
    "\n",
    "        lr_scheduler.step()\n",
    "    np.save(f'logs/depth/{opt}_layers_{layer_num}_initlr_{init_lr}_epochs100', training_acc)"
   ]
  },
  {
   "cell_type": "markdown",
   "metadata": {},
   "source": [
    "## Train a bunch of networks at different depths\n",
    "Be advised that for `epochs = 100` this block will take several days to run on a single GPU."
   ]
  },
  {
   "cell_type": "code",
   "execution_count": null,
   "metadata": {},
   "outputs": [],
   "source": [
    "opt_list = [\"SGD\", \"fromage\", \"adam\", 'SGDwithoutmomentum']\n",
    "layer_list_orig = list(range(1,10)) + [10,15,20,25,30,35,40,45,50]\n",
    "\n",
    "epochs = 100\n",
    "seed = 0\n",
    "\n",
    "sgd_lrs = [1.0, 0.1, 0.01]\n",
    "fromage_lrs = [0.1, 0.01, 0.001]\n",
    "adam_lrs = [0.01, 0.001, 0.0001]\n",
    "\n",
    "for opt in opt_list:\n",
    "    layer_list = layer_list_orig + [] # add empty list to get a copy\n",
    "    if opt == \"SGD\" or 'SGDwithoutmomentum': \n",
    "        lr_list = sgd_lrs\n",
    "        layer_list +=[11,12,13,14] # we collect extra data in the interesting regions\n",
    "    if opt == \"fromage\": \n",
    "        lr_list = fromage_lrs\n",
    "        layer_list += [27,32,37,42]\n",
    "    if opt == \"adam\": \n",
    "        lr_list = adam_lrs\n",
    "        layer_list += [21,22,23,24]\n",
    "    layer_list.sort()\n",
    "            \n",
    "    for layer_num in layer_list:\n",
    "        for lr in lr_list:\n",
    "            seed += 1\n",
    "            train_network( layer_num = layer_num, \n",
    "                           epochs = epochs, \n",
    "                           opt = opt, \n",
    "                           seed = seed, \n",
    "                           init_lr = lr )"
   ]
  }
 ],
 "metadata": {
  "kernelspec": {
   "display_name": "Python 3",
   "language": "python",
   "name": "python3"
  },
  "language_info": {
   "codemirror_mode": {
    "name": "ipython",
    "version": 3
   },
   "file_extension": ".py",
   "mimetype": "text/x-python",
   "name": "python",
   "nbconvert_exporter": "python",
   "pygments_lexer": "ipython3",
   "version": "3.6.9"
  }
 },
 "nbformat": 4,
 "nbformat_minor": 2
}
